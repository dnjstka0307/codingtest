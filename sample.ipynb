{
 "cells": [
  {
   "cell_type": "code",
   "execution_count": null,
   "metadata": {},
   "outputs": [],
   "source": []
  },
  {
   "cell_type": "code",
   "execution_count": null,
   "metadata": {},
   "outputs": [],
   "source": []
  },
  {
   "cell_type": "code",
   "execution_count": 65,
   "metadata": {},
   "outputs": [
    {
     "name": "stdout",
     "output_type": "stream",
     "text": [
      "192\n"
     ]
    }
   ],
   "source": [
    "from heapq import *\n",
    "nums, hand = map(int, input().split())\n",
    "lists = list(map(int,input().split()))\n",
    "minus = []\n",
    "plus = []\n",
    "\n",
    "for i in lists:\n",
    "    if i < 0:\n",
    "        minus.append(-i)\n",
    "    else:\n",
    "        plus.append(i)\n",
    "minus.sort()\n",
    "plus.sort()   \n",
    "\n",
    "total = []\n",
    "for i in range(len(plus)//hand):\n",
    "    total.append(plus[-((i)*hand +1)])\n",
    "if len(plus)%hand != 0:\n",
    "    total.append(minus[-((i)*hand+1) - (len(minus)//hand)])\n",
    "    \n",
    "for i in range(len(minus)//hand):\n",
    "    total.append(minus[-((i)*hand+1)])\n",
    "if len(minus)%hand != 0:\n",
    "    total.append(minus[-((i)*hand+1) - (len(minus)//hand)])\n",
    "\n",
    "print(max(total) + (sum(total) - max(total))*2)"
   ]
  },
  {
   "cell_type": "code",
   "execution_count": 67,
   "metadata": {},
   "outputs": [
    {
     "data": {
      "text/plain": [
       "[22, 40, 50]"
      ]
     },
     "execution_count": 67,
     "metadata": {},
     "output_type": "execute_result"
    }
   ],
   "source": [
    "plus "
   ]
  },
  {
   "cell_type": "markdown",
   "metadata": {},
   "source": [
    "(sum(total) - max(total))*2"
   ]
  },
  {
   "cell_type": "code",
   "execution_count": 40,
   "metadata": {},
   "outputs": [],
   "source": [
    "d = [[]]*10"
   ]
  },
  {
   "cell_type": "code",
   "execution_count": 41,
   "metadata": {},
   "outputs": [
    {
     "data": {
      "text/plain": [
       "[[], [], [], [], [], [], [], [], [], []]"
      ]
     },
     "execution_count": 41,
     "metadata": {},
     "output_type": "execute_result"
    }
   ],
   "source": [
    "d"
   ]
  },
  {
   "cell_type": "code",
   "execution_count": 42,
   "metadata": {},
   "outputs": [],
   "source": [
    "d[0].append([1])"
   ]
  },
  {
   "cell_type": "code",
   "execution_count": 54,
   "metadata": {},
   "outputs": [],
   "source": [
    " a = [True,False,True]"
   ]
  },
  {
   "cell_type": "code",
   "execution_count": 57,
   "metadata": {},
   "outputs": [
    {
     "name": "stdout",
     "output_type": "stream",
     "text": [
      "5\n"
     ]
    }
   ],
   "source": [
    "nums_com = int(input())\n",
    "case = int(input())\n",
    "graph = [[]]*(nums_com+1)\n",
    "visited = [False]*(nums_com+1)\n",
    "\n",
    "for _ in range(case):\n",
    "    x, y = map(int, input().split())\n",
    "    graph[x] = graph[x] + [y]\n",
    "    graph[y] = graph[y] + [x]\n",
    "    \n",
    "def dfs(graph, i, visited):\n",
    "    visited[i] = True\n",
    "    for x in graph[i]:\n",
    "        if visited[x] == False:\n",
    "            dfs(graph, x, visited)\n",
    "dfs(graph, 1, visited)\n",
    "print(sum(visited))"
   ]
  },
  {
   "cell_type": "code",
   "execution_count": 58,
   "metadata": {},
   "outputs": [
    {
     "data": {
      "text/plain": [
       "[[], [2, 5], [1, 3, 5], [2], [7], [1, 2, 6], [5], [4]]"
      ]
     },
     "execution_count": 58,
     "metadata": {},
     "output_type": "execute_result"
    }
   ],
   "source": [
    "graph"
   ]
  },
  {
   "cell_type": "code",
   "execution_count": 59,
   "metadata": {},
   "outputs": [
    {
     "data": {
      "text/plain": [
       "[False, True, True, True, False, True, True, False]"
      ]
     },
     "execution_count": 59,
     "metadata": {},
     "output_type": "execute_result"
    }
   ],
   "source": [
    "visited"
   ]
  },
  {
   "cell_type": "code",
   "execution_count": 2,
   "metadata": {},
   "outputs": [
    {
     "ename": "KeyboardInterrupt",
     "evalue": "",
     "output_type": "error",
     "traceback": [
      "\u001b[1;31m---------------------------------------------------------------------------\u001b[0m",
      "\u001b[1;31mKeyboardInterrupt\u001b[0m                         Traceback (most recent call last)",
      "\u001b[1;32m~\\AppData\\Local\\Temp\\ipykernel_12428\\797634453.py\u001b[0m in \u001b[0;36m<module>\u001b[1;34m\u001b[0m\n\u001b[0;32m      7\u001b[0m     \u001b[1;32melse\u001b[0m\u001b[1;33m:\u001b[0m\u001b[1;33m\u001b[0m\u001b[1;33m\u001b[0m\u001b[0m\n\u001b[0;32m      8\u001b[0m         \u001b[0mend\u001b[0m \u001b[1;33m-=\u001b[0m \u001b[1;36m1\u001b[0m\u001b[1;33m\u001b[0m\u001b[1;33m\u001b[0m\u001b[0m\n\u001b[1;32m----> 9\u001b[1;33m     \u001b[0mans\u001b[0m \u001b[1;33m+=\u001b[0m \u001b[1;36m1\u001b[0m\u001b[1;33m\u001b[0m\u001b[1;33m\u001b[0m\u001b[0m\n\u001b[0m\u001b[0;32m     10\u001b[0m \u001b[1;33m\u001b[0m\u001b[0m\n\u001b[0;32m     11\u001b[0m \u001b[0mprint\u001b[0m\u001b[1;33m(\u001b[0m\u001b[0mans\u001b[0m\u001b[1;33m)\u001b[0m\u001b[1;33m\u001b[0m\u001b[1;33m\u001b[0m\u001b[0m\n",
      "\u001b[1;31mKeyboardInterrupt\u001b[0m: "
     ]
    }
   ],
   "source": [
    "start, end = map(int, input().split())\n",
    "\n",
    "ans = 0\n",
    "while start != end:\n",
    "    if end%2 == 0:\n",
    "        end = end//2\n",
    "    else:\n",
    "        end -= 1\n",
    "    ans += 1\n",
    "\n",
    "print(ans)    "
   ]
  },
  {
   "cell_type": "code",
   "execution_count": 19,
   "metadata": {},
   "outputs": [
    {
     "name": "stdout",
     "output_type": "stream",
     "text": [
      "1 2 4 3 1 2 3 4 "
     ]
    }
   ],
   "source": [
    "from collections import deque\n",
    "\n",
    "edge, node, start = map(int, input().split())\n",
    "graph = [[]]*(edge+1)\n",
    "visit = [False]*(edge+1)\n",
    "\n",
    "\n",
    "\n",
    "for _ in range(node):\n",
    "    x, y = map(int, input().split())\n",
    "    graph[x] = graph[x] + [y]\n",
    "    graph[y] = graph[y] + [x]\n",
    "    graph[x].sort()\n",
    "    graph[y].sort()\n",
    "    \n",
    "def dfs(graph,visit,start):\n",
    "    visit[start] = True\n",
    "    print(start, end=' ')\n",
    "    for i in graph[start]:\n",
    "        if visit[i] == False:\n",
    "            dfs(graph, visit, i)\n",
    "    \n",
    "def bfs(graph,visit,start):    \n",
    "    que = deque()\n",
    "    que.append(start)\n",
    "    \n",
    "    while que:\n",
    "        now = que.popleft()\n",
    "        if visit[now] == False:\n",
    "            print(now, end=' ')\n",
    "            visit[now] = True\n",
    "            for i in graph[now]:\n",
    "                que.append(i)           \n",
    "    \n",
    "dfs(graph,visit,start)\n",
    "print()\n",
    "visit = [False]*(edge+1)\n",
    "bfs(graph,visit,start)"
   ]
  },
  {
   "cell_type": "code",
   "execution_count": 14,
   "metadata": {},
   "outputs": [],
   "source": [
    "ls = [1,3,4]"
   ]
  },
  {
   "cell_type": "code",
   "execution_count": 40,
   "metadata": {},
   "outputs": [],
   "source": [
    "graph = [[0]*3]*4"
   ]
  },
  {
   "cell_type": "code",
   "execution_count": 43,
   "metadata": {},
   "outputs": [
    {
     "data": {
      "text/plain": [
       "[[0, 0, 0], [0, 0, 0], [0, 0, 0], [0, 0, 0]]"
      ]
     },
     "execution_count": 43,
     "metadata": {},
     "output_type": "execute_result"
    }
   ],
   "source": [
    "graph"
   ]
  },
  {
   "cell_type": "code",
   "execution_count": 80,
   "metadata": {},
   "outputs": [
    {
     "name": "stdout",
     "output_type": "stream",
     "text": [
      "5\n"
     ]
    }
   ],
   "source": [
    "from collections import deque\n",
    "case = int(input())\n",
    "dx = [1,-1,0,0]\n",
    "dy = [0,0,1,-1]\n",
    "ans = 0\n",
    "\n",
    "def bfs(graph,m,n,x,y):\n",
    "    que = deque()\n",
    "    que.append([m,n])\n",
    "    graph[n][m] = 0\n",
    "    while que:\n",
    "        nx, ny = que.popleft()\n",
    "        for i in range(4):\n",
    "            nx += dx[i]\n",
    "            ny += dy[i]\n",
    "            \n",
    "            if nx < 0 or ny < 0 or nx >= x or ny >= y:\n",
    "                continue\n",
    "            if graph[ny][nx] == 1:\n",
    "                graph[ny][nx] = 0\n",
    "                que.append([nx, ny])             \n",
    "                        \n",
    "\n",
    "for _ in range(case):\n",
    "    x, y, k = map(int, input().split())\n",
    "    graph = [[0]*x for i in range(y)]\n",
    "    for i in range(k):\n",
    "        x_, y_ = map(int, input().split())\n",
    "        graph[y_][x_] = 1\n",
    "        \n",
    "    for m in range(x):\n",
    "        for n in range(y):\n",
    "            if graph[n][m] == 1:\n",
    "                bfs(graph, m, n, x, y)\n",
    "                ans += 1\n",
    "                \n",
    "    print(ans)\n",
    "    "
   ]
  },
  {
   "cell_type": "code",
   "execution_count": 83,
   "metadata": {},
   "outputs": [
    {
     "data": {
      "text/plain": [
       "(10, 8)"
      ]
     },
     "execution_count": 83,
     "metadata": {},
     "output_type": "execute_result"
    }
   ],
   "source": [
    "x,y"
   ]
  },
  {
   "cell_type": "code",
   "execution_count": 91,
   "metadata": {},
   "outputs": [],
   "source": [
    "graph[1][0] = 1"
   ]
  },
  {
   "cell_type": "code",
   "execution_count": 10,
   "metadata": {},
   "outputs": [],
   "source": [
    "a = [[0]*4 for i in range(3)]"
   ]
  },
  {
   "cell_type": "code",
   "execution_count": null,
   "metadata": {},
   "outputs": [],
   "source": []
  },
  {
   "cell_type": "code",
   "execution_count": 74,
   "metadata": {},
   "outputs": [
    {
     "data": {
      "text/plain": [
       "[[0, 0, 0], [0, 0, 0], [0, 0, 0], [0, 0, 0]]"
      ]
     },
     "execution_count": 74,
     "metadata": {},
     "output_type": "execute_result"
    }
   ],
   "source": [
    "[[0]*3 for i in range(4)]"
   ]
  },
  {
   "cell_type": "code",
   "execution_count": 99,
   "metadata": {},
   "outputs": [],
   "source": [
    "edge, node = map(int, input().split())\n",
    "graph =[[] for _ in range(edge+1)]\n",
    "visit = [[False] for _ in range(edge+1)]\n",
    "for _ in range(node):\n",
    "    a, b = map(int, input().split())\n",
    "    graph[a].append(b)\n",
    "    graph[b].append(a)"
   ]
  },
  {
   "cell_type": "code",
   "execution_count": 100,
   "metadata": {},
   "outputs": [
    {
     "data": {
      "text/plain": [
       "[[], [2, 5], [1, 5], [4], [3, 6], [2, 1], [4]]"
      ]
     },
     "execution_count": 100,
     "metadata": {},
     "output_type": "execute_result"
    }
   ],
   "source": [
    "graph"
   ]
  },
  {
   "cell_type": "code",
   "execution_count": 1,
   "metadata": {},
   "outputs": [
    {
     "name": "stdout",
     "output_type": "stream",
     "text": [
      "2\n"
     ]
    }
   ],
   "source": [
    "edge, node = map(int, input().split())\n",
    "graph =[[] for _ in range(edge+1)]\n",
    "visit = [False for _ in range(edge+1)]\n",
    "for _ in range(node):\n",
    "    a, b = map(int, input().split())\n",
    "    graph[a].append(b)\n",
    "    graph[b].append(a)\n",
    "    \n",
    "    \n",
    "def dfs(graph,visit,x):\n",
    "    visit[x] = True\n",
    "    for i in graph[x]:\n",
    "        if visit[i] == False:\n",
    "            dfs(graph,visit,i)\n",
    "\n",
    "            \n",
    "total = 0            \n",
    "for i in range(1,edge+1):\n",
    "    if visit[i] == False:\n",
    "        dfs(graph, visit, i)\n",
    "        total+=1    \n",
    "    \n",
    "print(total)\n"
   ]
  },
  {
   "cell_type": "code",
   "execution_count": 6,
   "metadata": {},
   "outputs": [
    {
     "data": {
      "text/plain": [
       "[[], [], [], [], []]"
      ]
     },
     "execution_count": 6,
     "metadata": {},
     "output_type": "execute_result"
    }
   ],
   "source": [
    "[[] for _ in range(4+1)]"
   ]
  },
  {
   "cell_type": "code",
   "execution_count": 4,
   "metadata": {},
   "outputs": [
    {
     "data": {
      "text/plain": [
       "[[], [2, 5], [1, 5], [4], [3, 6], [2, 1], [4]]"
      ]
     },
     "execution_count": 4,
     "metadata": {},
     "output_type": "execute_result"
    }
   ],
   "source": [
    "graph"
   ]
  },
  {
   "cell_type": "code",
   "execution_count": 43,
   "metadata": {},
   "outputs": [
    {
     "name": "stdout",
     "output_type": "stream",
     "text": [
      "9\n"
     ]
    }
   ],
   "source": [
    "from collections import deque\n",
    "\n",
    "x, y = map(int, input().split())\n",
    "graph = []\n",
    "for _ in range(y):\n",
    "    lists = list(map(int, input().split()))\n",
    "    graph.append(lists)\n",
    "    \n",
    "dx = [1,1,1,0,0,0,-1,-1,-1]\n",
    "dy = [1,-1,0,1,-1,0,1,-1,0]\n",
    "\n",
    "def bfs(graph,x,y,m,n):\n",
    "    que = deque()\n",
    "    que.append([x,y])\n",
    "    graph[y][x] = 0\n",
    "    while que:\n",
    "        x_, y_ = que.popleft()\n",
    "        for i in range(9):\n",
    "            nx = x_ + dx[i]\n",
    "            ny = y_ + dy[i]\n",
    "            if nx < 0 or ny < 0 or nx >= m or ny >= n:\n",
    "                continue\n",
    "            if graph[ny][nx] == 1:\n",
    "                graph[ny][nx] = 0\n",
    "                que.append([nx,ny])\n",
    "\n",
    "ans = 0\n",
    "for xi in range(x):\n",
    "    for yi in range(y):\n",
    "        if graph[yi][xi] == 1:\n",
    "            bfs(graph, xi, yi, x, y)\n",
    "            ans += 1\n",
    "            \n",
    "print(ans)\n",
    "                "
   ]
  },
  {
   "cell_type": "code",
   "execution_count": 37,
   "metadata": {},
   "outputs": [],
   "source": [
    "x = 0\n",
    "y = 1"
   ]
  },
  {
   "cell_type": "code",
   "execution_count": 38,
   "metadata": {},
   "outputs": [
    {
     "name": "stdout",
     "output_type": "stream",
     "text": [
      "2\n"
     ]
    }
   ],
   "source": [
    "if x < 0 or y < 0 or x >= 2 or y >= 2:\n",
    "    print(1)\n",
    "else:\n",
    "    print(2)"
   ]
  },
  {
   "cell_type": "code",
   "execution_count": 48,
   "metadata": {},
   "outputs": [],
   "source": [
    "visit = [[False]*4 for _ in range(3)]"
   ]
  },
  {
   "cell_type": "code",
   "execution_count": 50,
   "metadata": {},
   "outputs": [
    {
     "ename": "IndexError",
     "evalue": "list index out of range",
     "output_type": "error",
     "traceback": [
      "\u001b[1;31m---------------------------------------------------------------------------\u001b[0m",
      "\u001b[1;31mIndexError\u001b[0m                                Traceback (most recent call last)",
      "\u001b[1;32m~\\AppData\\Local\\Temp\\ipykernel_2720\\1332612526.py\u001b[0m in \u001b[0;36m<module>\u001b[1;34m\u001b[0m\n\u001b[0;32m     28\u001b[0m                 \u001b[0mque\u001b[0m\u001b[1;33m.\u001b[0m\u001b[0mappend\u001b[0m\u001b[1;33m(\u001b[0m\u001b[1;33m[\u001b[0m\u001b[0mnx\u001b[0m\u001b[1;33m,\u001b[0m\u001b[0mny\u001b[0m\u001b[1;33m]\u001b[0m\u001b[1;33m)\u001b[0m\u001b[1;33m\u001b[0m\u001b[1;33m\u001b[0m\u001b[0m\n\u001b[0;32m     29\u001b[0m \u001b[1;33m\u001b[0m\u001b[0m\n\u001b[1;32m---> 30\u001b[1;33m \u001b[0mbfs\u001b[0m\u001b[1;33m(\u001b[0m\u001b[0mgraph\u001b[0m\u001b[1;33m,\u001b[0m\u001b[0mvisit\u001b[0m\u001b[1;33m,\u001b[0m\u001b[1;36m1\u001b[0m\u001b[1;33m,\u001b[0m\u001b[1;36m1\u001b[0m\u001b[1;33m,\u001b[0m\u001b[0mn\u001b[0m\u001b[1;33m,\u001b[0m\u001b[0mm\u001b[0m\u001b[1;33m)\u001b[0m\u001b[1;33m\u001b[0m\u001b[1;33m\u001b[0m\u001b[0m\n\u001b[0m\u001b[0;32m     31\u001b[0m \u001b[0mprint\u001b[0m\u001b[1;33m(\u001b[0m\u001b[0msum\u001b[0m\u001b[1;33m(\u001b[0m\u001b[0mvisit\u001b[0m\u001b[1;33m)\u001b[0m\u001b[1;33m)\u001b[0m\u001b[1;33m\u001b[0m\u001b[1;33m\u001b[0m\u001b[0m\n\u001b[0;32m     32\u001b[0m \u001b[1;33m\u001b[0m\u001b[0m\n",
      "\u001b[1;32m~\\AppData\\Local\\Temp\\ipykernel_2720\\1332612526.py\u001b[0m in \u001b[0;36mbfs\u001b[1;34m(graph, visit, x, y, n, m)\u001b[0m\n\u001b[0;32m     24\u001b[0m                 \u001b[0mvisit\u001b[0m\u001b[1;33m[\u001b[0m\u001b[0mny\u001b[0m\u001b[1;33m]\u001b[0m\u001b[1;33m[\u001b[0m\u001b[0mnx\u001b[0m\u001b[1;33m]\u001b[0m \u001b[1;33m=\u001b[0m \u001b[1;32mTrue\u001b[0m\u001b[1;33m\u001b[0m\u001b[1;33m\u001b[0m\u001b[0m\n\u001b[0;32m     25\u001b[0m                 \u001b[1;32mbreak\u001b[0m\u001b[1;33m\u001b[0m\u001b[1;33m\u001b[0m\u001b[0m\n\u001b[1;32m---> 26\u001b[1;33m             \u001b[1;32mif\u001b[0m \u001b[0mgraph\u001b[0m\u001b[1;33m[\u001b[0m\u001b[0mny\u001b[0m\u001b[1;33m]\u001b[0m\u001b[1;33m[\u001b[0m\u001b[0mnx\u001b[0m\u001b[1;33m]\u001b[0m \u001b[1;33m==\u001b[0m \u001b[1;36m1\u001b[0m \u001b[1;32mand\u001b[0m \u001b[0mvisit\u001b[0m\u001b[1;33m[\u001b[0m\u001b[0mny\u001b[0m\u001b[1;33m]\u001b[0m\u001b[1;33m[\u001b[0m\u001b[0mnx\u001b[0m\u001b[1;33m]\u001b[0m \u001b[1;33m==\u001b[0m \u001b[1;32mFalse\u001b[0m\u001b[1;33m:\u001b[0m\u001b[1;33m\u001b[0m\u001b[1;33m\u001b[0m\u001b[0m\n\u001b[0m\u001b[0;32m     27\u001b[0m                 \u001b[0mvisit\u001b[0m\u001b[1;33m[\u001b[0m\u001b[0mny\u001b[0m\u001b[1;33m]\u001b[0m\u001b[1;33m[\u001b[0m\u001b[0mnx\u001b[0m\u001b[1;33m]\u001b[0m \u001b[1;33m=\u001b[0m \u001b[1;32mTrue\u001b[0m\u001b[1;33m\u001b[0m\u001b[1;33m\u001b[0m\u001b[0m\n\u001b[0;32m     28\u001b[0m                 \u001b[0mque\u001b[0m\u001b[1;33m.\u001b[0m\u001b[0mappend\u001b[0m\u001b[1;33m(\u001b[0m\u001b[1;33m[\u001b[0m\u001b[0mnx\u001b[0m\u001b[1;33m,\u001b[0m\u001b[0mny\u001b[0m\u001b[1;33m]\u001b[0m\u001b[1;33m)\u001b[0m\u001b[1;33m\u001b[0m\u001b[1;33m\u001b[0m\u001b[0m\n",
      "\u001b[1;31mIndexError\u001b[0m: list index out of range"
     ]
    }
   ],
   "source": [
    "from collections import deque\n",
    "\n",
    "n, m = map(int, input().split())\n",
    "graph = []\n",
    "visit = [[False]*m for _ in range(n)]\n",
    "dx = [0,0,-1,1]\n",
    "dy = [-1,1,0,0]\n",
    "for _ in range(n):\n",
    "    g = list(map(int, input().split()))\n",
    "    graph.append(g)\n",
    "    \n",
    "def bfs(graph, visit, x, y, n, m):\n",
    "    que = deque()\n",
    "    que.append([x,y])\n",
    "    visit[y][x] = True\n",
    "    while que:\n",
    "        x_, y_ = que.popleft()\n",
    "        for i in range(4):\n",
    "            nx = x_ + dx[i]\n",
    "            ny = y_ + dy[i]\n",
    "            if nx < 0 or ny < 0 or nx >= m  or ny >= n:\n",
    "                continue\n",
    "            if nx == m and ny == n:\n",
    "                visit[ny][nx] = True\n",
    "                break\n",
    "            if graph[ny][nx] == 1 and visit[ny][nx] == False:\n",
    "                visit[ny][nx] = True\n",
    "                que.append([nx,ny])\n",
    "                \n",
    "bfs(graph,visit,1,1,n,m)\n",
    "print(sum(visit))\n",
    "    "
   ]
  },
  {
   "cell_type": "code",
   "execution_count": 52,
   "metadata": {},
   "outputs": [],
   "source": [
    "a = '10101'"
   ]
  },
  {
   "cell_type": "code",
   "execution_count": 53,
   "metadata": {},
   "outputs": [
    {
     "data": {
      "text/plain": [
       "['1', '0', '1', '0', '1']"
      ]
     },
     "execution_count": 53,
     "metadata": {},
     "output_type": "execute_result"
    }
   ],
   "source": [
    "list(a)"
   ]
  },
  {
   "cell_type": "code",
   "execution_count": 54,
   "metadata": {},
   "outputs": [],
   "source": [
    "g = list(map(int, input()))"
   ]
  },
  {
   "cell_type": "code",
   "execution_count": 55,
   "metadata": {},
   "outputs": [
    {
     "data": {
      "text/plain": [
       "[1, 1, 1, 1, 1]"
      ]
     },
     "execution_count": 55,
     "metadata": {},
     "output_type": "execute_result"
    }
   ],
   "source": [
    "g"
   ]
  },
  {
   "cell_type": "code",
   "execution_count": 85,
   "metadata": {},
   "outputs": [
    {
     "name": "stdout",
     "output_type": "stream",
     "text": [
      "1 0\n",
      "1 2\n",
      "0 1\n",
      "2 1\n",
      "1 1\n",
      "1 3\n",
      "0 2\n",
      "2 2\n",
      "1 2\n",
      "1 4\n",
      "0 3\n",
      "2 3\n",
      "1 3\n",
      "0 4\n",
      "2 4\n",
      "2 3\n",
      "1 4\n",
      "3 4\n",
      "3 3\n",
      "2 4\n",
      "4 4\n",
      "3 2\n",
      "3 4\n",
      "2 3\n",
      "4 3\n",
      "3 1\n",
      "3 3\n",
      "2 2\n",
      "4 2\n",
      "3 0\n",
      "3 2\n",
      "2 1\n",
      "4 1\n",
      "4 0\n",
      "4 2\n",
      "3 1\n",
      "5 1\n",
      "5 0\n",
      "5 2\n",
      "4 1\n",
      "6 1\n",
      "5 1\n",
      "5 3\n",
      "4 2\n",
      "6 2\n",
      "6 0\n",
      "6 2\n",
      "5 1\n",
      "5 2\n",
      "5 4\n",
      "4 3\n",
      "6 3\n",
      "5 3\n",
      "4 4\n",
      "6 2\n"
     ]
    },
    {
     "ename": "TypeError",
     "evalue": "unsupported operand type(s) for +: 'int' and 'list'",
     "output_type": "error",
     "traceback": [
      "\u001b[1;31m---------------------------------------------------------------------------\u001b[0m",
      "\u001b[1;31mTypeError\u001b[0m                                 Traceback (most recent call last)",
      "\u001b[1;32m~\\AppData\\Local\\Temp\\ipykernel_2720\\3181930733.py\u001b[0m in \u001b[0;36m<module>\u001b[1;34m\u001b[0m\n\u001b[0;32m     30\u001b[0m \u001b[1;33m\u001b[0m\u001b[0m\n\u001b[0;32m     31\u001b[0m \u001b[0mbfs\u001b[0m\u001b[1;33m(\u001b[0m\u001b[0mgraph\u001b[0m\u001b[1;33m,\u001b[0m\u001b[0mvisit\u001b[0m\u001b[1;33m,\u001b[0m\u001b[1;36m1\u001b[0m\u001b[1;33m,\u001b[0m\u001b[1;36m1\u001b[0m\u001b[1;33m,\u001b[0m\u001b[0mn\u001b[0m\u001b[1;33m,\u001b[0m\u001b[0mm\u001b[0m\u001b[1;33m)\u001b[0m\u001b[1;33m\u001b[0m\u001b[1;33m\u001b[0m\u001b[0m\n\u001b[1;32m---> 32\u001b[1;33m \u001b[0mprint\u001b[0m\u001b[1;33m(\u001b[0m\u001b[0msum\u001b[0m\u001b[1;33m(\u001b[0m\u001b[0mvisit\u001b[0m\u001b[1;33m)\u001b[0m\u001b[1;33m)\u001b[0m\u001b[1;33m\u001b[0m\u001b[1;33m\u001b[0m\u001b[0m\n\u001b[0m\u001b[0;32m     33\u001b[0m \u001b[1;33m\u001b[0m\u001b[0m\n\u001b[0;32m     34\u001b[0m \u001b[1;33m\u001b[0m\u001b[0m\n",
      "\u001b[1;31mTypeError\u001b[0m: unsupported operand type(s) for +: 'int' and 'list'"
     ]
    }
   ],
   "source": [
    "from collections import deque\n",
    "\n",
    "n, m = map(int, input().split())\n",
    "graph = [[0]*(m+1)]\n",
    "visit = [[False]*(m+1) for _ in range(n+1)]\n",
    "dx = [0,0,-1,1]\n",
    "dy = [-1,1,0,0]\n",
    "for _ in range(n):\n",
    "    g = [0]+list(map(int, input()))\n",
    "    graph.append(g)\n",
    "    \n",
    "def bfs(graph, visit, x, y, n, m):\n",
    "    que = deque()\n",
    "    que.append([x,y])\n",
    "    visit[y][x] = True\n",
    "    while que:\n",
    "        x_, y_ = que.popleft()\n",
    "        for i in range(4):\n",
    "            nx = x_ + dx[i]\n",
    "            ny = y_ + dy[i]\n",
    "            if nx < 0 or ny < 0 or nx > m  or ny > n:\n",
    "                continue\n",
    "            if nx == m and ny == n:\n",
    "                visit[ny][nx] = True\n",
    "                break\n",
    "            print(nx,ny)\n",
    "            if graph[ny][nx] == 1 and visit[ny][nx] == False:\n",
    "                visit[ny][nx] = True\n",
    "                que.append([nx,ny])\n",
    "                \n",
    "bfs(graph,visit,1,1,n,m)\n",
    "    \n",
    "    "
   ]
  },
  {
   "cell_type": "code",
   "execution_count": 88,
   "metadata": {},
   "outputs": [
    {
     "data": {
      "text/plain": [
       "[[False, False, False, False, False, False, False],\n",
       " [False, True, False, True, True, True, True],\n",
       " [False, True, False, True, False, True, False],\n",
       " [False, True, False, True, False, True, True],\n",
       " [False, True, True, True, False, True, True]]"
      ]
     },
     "execution_count": 88,
     "metadata": {},
     "output_type": "execute_result"
    }
   ],
   "source": [
    "visit"
   ]
  },
  {
   "cell_type": "code",
   "execution_count": 133,
   "metadata": {},
   "outputs": [
    {
     "name": "stdout",
     "output_type": "stream",
     "text": [
      "15\n"
     ]
    }
   ],
   "source": [
    "from collections import deque\n",
    "\n",
    "n, m = map(int, input().split())\n",
    "graph = [[0]*(m+1)]\n",
    "dx = [0,0,-1,1]\n",
    "dy = [-1,1,0,0]\n",
    "for _ in range(n):\n",
    "    g = [0]+list(map(int, input()))\n",
    "    graph.append(g)\n",
    "\n",
    "def bfs(graph, x, y, n, m):\n",
    "    que = deque()\n",
    "    que.append([x,y])\n",
    "    while que:\n",
    "        x_, y_ = que.popleft()\n",
    "        for i in range(4):\n",
    "            nx = x_ + dx[i]\n",
    "            ny = y_ + dy[i]\n",
    "            if nx < 0 or ny < 0 or nx > m  or ny > n:\n",
    "                continue\n",
    "            if graph[ny][nx] == 0:\n",
    "                continue\n",
    "            if graph[ny][nx] == 1:\n",
    "                graph[ny][nx] = graph[y_][x_]+1\n",
    "                que.append([nx,ny])\n",
    "            if nx == m and ny == n:\n",
    "                break\n",
    "                \n",
    "bfs(graph,1,1,n,m)\n",
    "print(graph[n][m])\n",
    "    "
   ]
  },
  {
   "cell_type": "code",
   "execution_count": 159,
   "metadata": {},
   "outputs": [
    {
     "name": "stdout",
     "output_type": "stream",
     "text": [
      "13\n",
      "0\n",
      "0\n",
      "0\n",
      "0\n",
      "0\n",
      "0\n",
      "0\n",
      "0\n",
      "0\n",
      "0\n",
      "0\n",
      "0\n",
      "0\n"
     ]
    }
   ],
   "source": [
    "from collections import deque\n",
    "\n",
    "n = int(input())\n",
    "graph = []\n",
    "dx = [0,0,-1,1]\n",
    "dy = [-1,1,0,0]\n",
    "for _ in range(n):\n",
    "    graph.append(list(map(int,input())))\n",
    "\n",
    "def bfs(graph,x,y,n):\n",
    "    que = deque()\n",
    "    que.append([x,y])\n",
    "    house = 1\n",
    "    while que:\n",
    "        x_, y_ = que.popleft()\n",
    "        for i in range(4):\n",
    "            nx = x_+dx[i]\n",
    "            ny = y_+dy[i]\n",
    "            if nx < 0 or ny < 0 or nx >= n or ny >= n:\n",
    "                continue\n",
    "            if graph[ny][nx] == 1:\n",
    "                graph[ny][nx] = 0\n",
    "                que.append([nx,ny])\n",
    "                house += 1\n",
    "\n",
    "    return house\n",
    "\n",
    "ans = 0\n",
    "ans_list = []\n",
    "for xi in range(n):\n",
    "    for yi in range(n):\n",
    "        if graph[yi][xi] == 1:\n",
    "            house = bfs(graph,xi,yi,n)\n",
    "            ans_list.append(house)\n",
    "            ans += 1\n",
    "            \n",
    "print(ans)\n",
    "ans_list.sort()\n",
    "for i in ans_list:\n",
    "    print(i)\n",
    "\n",
    "    \n",
    "    "
   ]
  },
  {
   "cell_type": "code",
   "execution_count": 154,
   "metadata": {},
   "outputs": [],
   "source": [
    "ans_list.sort()"
   ]
  },
  {
   "cell_type": "code",
   "execution_count": 155,
   "metadata": {},
   "outputs": [
    {
     "data": {
      "text/plain": [
       "[8, 9, 10]"
      ]
     },
     "execution_count": 155,
     "metadata": {},
     "output_type": "execute_result"
    }
   ],
   "source": [
    "ans_list"
   ]
  },
  {
   "cell_type": "code",
   "execution_count": 225,
   "metadata": {},
   "outputs": [],
   "source": [
    "from collections import deque\n",
    "def bfs(n,k):\n",
    "    que = deque()\n",
    "    que.append(n)\n",
    "    while True:\n",
    "        new = que.popleft()\n",
    "        new_1 = new - 1\n",
    "        new_2 = new + 1\n",
    "        new_3 = new*2\n",
    "        que.append(new_1)\n",
    "        que.append(new_2)\n",
    "        que.append(new_3)\n",
    "        if k in que:\n",
    "            break\n",
    "        \n",
    "    return que\n",
    "\n"
   ]
  },
  {
   "cell_type": "code",
   "execution_count": 226,
   "metadata": {},
   "outputs": [],
   "source": [
    "que = bfs(5,12)\n",
    "lens = len(que)\n",
    "ans = 1"
   ]
  },
  {
   "cell_type": "code",
   "execution_count": 228,
   "metadata": {},
   "outputs": [
    {
     "data": {
      "text/plain": [
       "deque([10, 3, 5, 8, 5, 7, 12])"
      ]
     },
     "execution_count": 228,
     "metadata": {},
     "output_type": "execute_result"
    }
   ],
   "source": [
    "que"
   ]
  },
  {
   "cell_type": "code",
   "execution_count": 256,
   "metadata": {},
   "outputs": [
    {
     "ename": "KeyboardInterrupt",
     "evalue": "",
     "output_type": "error",
     "traceback": [
      "\u001b[1;31m---------------------------------------------------------------------------\u001b[0m",
      "\u001b[1;31mKeyboardInterrupt\u001b[0m                         Traceback (most recent call last)",
      "\u001b[1;32m~\\AppData\\Local\\Temp\\ipykernel_2720\\2879954736.py\u001b[0m in \u001b[0;36m<module>\u001b[1;34m\u001b[0m\n\u001b[0;32m     20\u001b[0m \u001b[1;33m\u001b[0m\u001b[0m\n\u001b[0;32m     21\u001b[0m \u001b[1;33m\u001b[0m\u001b[0m\n\u001b[1;32m---> 22\u001b[1;33m \u001b[0mque\u001b[0m \u001b[1;33m=\u001b[0m \u001b[0mbfs\u001b[0m\u001b[1;33m(\u001b[0m\u001b[0mn\u001b[0m\u001b[1;33m,\u001b[0m\u001b[0mk\u001b[0m\u001b[1;33m)\u001b[0m\u001b[1;33m\u001b[0m\u001b[1;33m\u001b[0m\u001b[0m\n\u001b[0m\u001b[0;32m     23\u001b[0m \u001b[0mlens\u001b[0m \u001b[1;33m=\u001b[0m \u001b[0mlen\u001b[0m\u001b[1;33m(\u001b[0m\u001b[0mque\u001b[0m\u001b[1;33m)\u001b[0m\u001b[1;33m\u001b[0m\u001b[1;33m\u001b[0m\u001b[0m\n\u001b[0;32m     24\u001b[0m \u001b[1;33m\u001b[0m\u001b[0m\n",
      "\u001b[1;32m~\\AppData\\Local\\Temp\\ipykernel_2720\\2879954736.py\u001b[0m in \u001b[0;36mbfs\u001b[1;34m(n, k)\u001b[0m\n\u001b[0;32m      6\u001b[0m     \u001b[0mque\u001b[0m\u001b[1;33m.\u001b[0m\u001b[0mappend\u001b[0m\u001b[1;33m(\u001b[0m\u001b[0mn\u001b[0m\u001b[1;33m)\u001b[0m\u001b[1;33m\u001b[0m\u001b[1;33m\u001b[0m\u001b[0m\n\u001b[0;32m      7\u001b[0m     \u001b[1;32mwhile\u001b[0m \u001b[1;32mTrue\u001b[0m\u001b[1;33m:\u001b[0m\u001b[1;33m\u001b[0m\u001b[1;33m\u001b[0m\u001b[0m\n\u001b[1;32m----> 8\u001b[1;33m         \u001b[0mnew\u001b[0m \u001b[1;33m=\u001b[0m \u001b[0mque\u001b[0m\u001b[1;33m.\u001b[0m\u001b[0mpopleft\u001b[0m\u001b[1;33m(\u001b[0m\u001b[1;33m)\u001b[0m\u001b[1;33m\u001b[0m\u001b[1;33m\u001b[0m\u001b[0m\n\u001b[0m\u001b[0;32m      9\u001b[0m         \u001b[1;32mif\u001b[0m \u001b[0mnew\u001b[0m \u001b[1;33m!=\u001b[0m \u001b[1;36m0\u001b[0m\u001b[1;33m:\u001b[0m\u001b[1;33m\u001b[0m\u001b[1;33m\u001b[0m\u001b[0m\n\u001b[0;32m     10\u001b[0m             \u001b[0mnew_3\u001b[0m \u001b[1;33m=\u001b[0m \u001b[0mnew\u001b[0m\u001b[1;33m*\u001b[0m\u001b[1;36m2\u001b[0m\u001b[1;33m\u001b[0m\u001b[1;33m\u001b[0m\u001b[0m\n",
      "\u001b[1;31mKeyboardInterrupt\u001b[0m: "
     ]
    }
   ],
   "source": [
    "from collections import deque\n",
    "n, k = map(int, input().split())\n",
    "\n",
    "def bfs(n,k):\n",
    "    que = deque()\n",
    "    que.append(n)\n",
    "    while True:\n",
    "        new = que.popleft()\n",
    "        if new != 0:\n",
    "            new_3 = new*2\n",
    "            que.append(new_3)\n",
    "        new_1 = new - 1\n",
    "        new_2 = new + 1\n",
    "        que.append(new_1)\n",
    "        que.append(new_2)\n",
    "        if k in que:\n",
    "            break\n",
    "        \n",
    "    return que\n",
    "\n",
    "\n",
    "que = bfs(n,k)\n",
    "lens = len(que)\n",
    "     "
   ]
  },
  {
   "cell_type": "code",
   "execution_count": 254,
   "metadata": {},
   "outputs": [
    {
     "data": {
      "text/plain": [
       "46"
      ]
     },
     "execution_count": 254,
     "metadata": {},
     "output_type": "execute_result"
    }
   ],
   "source": [
    "5"
   ]
  },
  {
   "cell_type": "code",
   "execution_count": 354,
   "metadata": {},
   "outputs": [],
   "source": [
    "from collections import deque\n",
    "visit = [False]*(k*2)\n",
    "def bfs(n,k):\n",
    "    que = deque()\n",
    "    que.append(n)\n",
    "    visit[n] = True\n",
    "    while que:\n",
    "        print(que)\n",
    "        now = que.popleft()\n",
    "        if now%2==1:\n",
    "            new_1 = now+1\n",
    "            new_2 = now-1\n",
    "            if visit[new_1] == False:\n",
    "                visit[new_1] = True\n",
    "                que.append(new_1)\n",
    "            if visit[new_2] == False:\n",
    "                visit[new_2] = True\n",
    "                que.append(new_2)\n",
    "        else:\n",
    "            new_1 = now+1\n",
    "            new_2 = now-1\n",
    "            new_3 = now*2\n",
    "            print(now)\n",
    "            if visit[new_1] == False:\n",
    "                visit[new_1] = True\n",
    "                que.append(new_1)\n",
    "            if visit[new_2] == False:\n",
    "                visit[new_2] = True\n",
    "                que.append(new_2)\n",
    "            if visit[new_3] == False:\n",
    "                visit[new_3] == True\n",
    "                que.append(new_3)\n",
    "                \n",
    "        if visit[k] == True:\n",
    "            break\n",
    "                \n",
    "    return visit"
   ]
  },
  {
   "cell_type": "code",
   "execution_count": 5,
   "metadata": {},
   "outputs": [],
   "source": [
    "n = int(input())\n",
    "graph = []\n",
    "for _ in range(n):\n",
    "    graph.append(list(map(int, input().split())))\n",
    "    "
   ]
  },
  {
   "cell_type": "code",
   "execution_count": 7,
   "metadata": {},
   "outputs": [
    {
     "data": {
      "text/plain": [
       "[3, 4, 2, 1]"
      ]
     },
     "execution_count": 7,
     "metadata": {},
     "output_type": "execute_result"
    }
   ],
   "source": [
    "max(graph)"
   ]
  },
  {
   "cell_type": "code",
   "execution_count": 4,
   "metadata": {},
   "outputs": [
    {
     "ename": "ValueError",
     "evalue": "not enough values to unpack (expected 2, got 0)",
     "output_type": "error",
     "traceback": [
      "\u001b[1;31m---------------------------------------------------------------------------\u001b[0m",
      "\u001b[1;31mValueError\u001b[0m                                Traceback (most recent call last)",
      "\u001b[1;32m~\\AppData\\Local\\Temp\\ipykernel_5244\\657257254.py\u001b[0m in \u001b[0;36m<module>\u001b[1;34m\u001b[0m\n\u001b[0;32m      1\u001b[0m \u001b[1;32mfrom\u001b[0m \u001b[0mcollections\u001b[0m \u001b[1;32mimport\u001b[0m \u001b[0mdeque\u001b[0m\u001b[1;33m\u001b[0m\u001b[1;33m\u001b[0m\u001b[0m\n\u001b[1;32m----> 2\u001b[1;33m \u001b[0mn\u001b[0m\u001b[1;33m,\u001b[0m \u001b[0mk\u001b[0m \u001b[1;33m=\u001b[0m \u001b[0mmap\u001b[0m\u001b[1;33m(\u001b[0m\u001b[0mint\u001b[0m\u001b[1;33m,\u001b[0m \u001b[0minput\u001b[0m\u001b[1;33m(\u001b[0m\u001b[1;33m)\u001b[0m\u001b[1;33m.\u001b[0m\u001b[0msplit\u001b[0m\u001b[1;33m(\u001b[0m\u001b[1;33m)\u001b[0m\u001b[1;33m)\u001b[0m\u001b[1;33m\u001b[0m\u001b[1;33m\u001b[0m\u001b[0m\n\u001b[0m\u001b[0;32m      3\u001b[0m \u001b[0mvisit\u001b[0m\u001b[1;33m=\u001b[0m\u001b[1;33m[\u001b[0m\u001b[1;36m0\u001b[0m\u001b[1;33m]\u001b[0m\u001b[1;33m*\u001b[0m\u001b[1;33m(\u001b[0m\u001b[1;36m100001\u001b[0m\u001b[1;33m)\u001b[0m\u001b[1;33m\u001b[0m\u001b[1;33m\u001b[0m\u001b[0m\n\u001b[0;32m      4\u001b[0m \u001b[1;32mdef\u001b[0m \u001b[0mbfs\u001b[0m\u001b[1;33m(\u001b[0m\u001b[0mn\u001b[0m\u001b[1;33m,\u001b[0m\u001b[0mk\u001b[0m\u001b[1;33m)\u001b[0m\u001b[1;33m:\u001b[0m\u001b[1;33m\u001b[0m\u001b[1;33m\u001b[0m\u001b[0m\n\u001b[0;32m      5\u001b[0m     \u001b[0mque\u001b[0m \u001b[1;33m=\u001b[0m \u001b[0mdeque\u001b[0m\u001b[1;33m(\u001b[0m\u001b[1;33m)\u001b[0m\u001b[1;33m\u001b[0m\u001b[1;33m\u001b[0m\u001b[0m\n",
      "\u001b[1;31mValueError\u001b[0m: not enough values to unpack (expected 2, got 0)"
     ]
    }
   ],
   "source": [
    "from collections import deque\n",
    "n, k = map(int, input().split())\n",
    "visit=[0]*(100001)\n",
    "def bfs(n,k):\n",
    "    que = deque()\n",
    "    que.append(n)\n",
    "    while que:\n",
    "        now = que.popleft()\n",
    "        if now == k:\n",
    "            break\n",
    "        for i in [now+1, now-1, 2*now]:\n",
    "            if (0<=i<=100001) and visit[i] == 0:\n",
    "                visit[i] = visit[now]+1\n",
    "                que.append(i)\n",
    "bfs(n,k)\n",
    "print(visit[k])"
   ]
  },
  {
   "cell_type": "code",
   "execution_count": 380,
   "metadata": {},
   "outputs": [],
   "source": [
    "bfs(5,12)"
   ]
  },
  {
   "cell_type": "code",
   "execution_count": 382,
   "metadata": {},
   "outputs": [
    {
     "data": {
      "text/plain": [
       "2"
      ]
     },
     "execution_count": 382,
     "metadata": {},
     "output_type": "execute_result"
    }
   ],
   "source": [
    "visit[12]"
   ]
  },
  {
   "cell_type": "code",
   "execution_count": 1,
   "metadata": {},
   "outputs": [],
   "source": [
    "from collections import deque\n",
    "n = int(input())\n",
    "graph = []\n",
    "dx = [0,0,-1,1]\n",
    "dy = [-1,1,0,0]\n",
    "\n",
    "\n",
    "for _ in range(n):\n",
    "    graph.append(list(map(int, input().split())))"
   ]
  },
  {
   "cell_type": "code",
   "execution_count": 37,
   "metadata": {},
   "outputs": [],
   "source": [
    "def bfs(graph,x,y,n,visit,maxs,total):\n",
    "    que = deque()\n",
    "    que.append([x,y])\n",
    "    visit[y][x] = total\n",
    "    while que: \n",
    "        x_, y_ = que.popleft()\n",
    "        for i in range(4):\n",
    "            nx = x_+dx[i]\n",
    "            ny = y_+dy[i]\n",
    "            if nx < 0 or ny < 0 or nx >= n or ny >= n:\n",
    "                continue\n",
    "            if graph[ny][nx] > maxs and visit[ny][nx]==0:\n",
    "                visit[ny][nx] = total\n",
    "                que.append([nx,ny])\n",
    "                "
   ]
  },
  {
   "cell_type": "code",
   "execution_count": 47,
   "metadata": {},
   "outputs": [
    {
     "name": "stdout",
     "output_type": "stream",
     "text": [
      "2 0 0\n",
      "2 0 0\n",
      "2 0 0\n",
      "2 0 0\n",
      "3 2 0\n",
      "4 0 3\n",
      "5 3 4\n",
      "2 0 0\n",
      "3 2 0\n",
      "4 0 3\n",
      "5 1 4\n",
      "6 3 4\n"
     ]
    }
   ],
   "source": [
    "ans = 0\n",
    "for i in range(5):\n",
    "    total = 1\n",
    "    visit = [[0]*n for _ in range(n)]\n",
    "    for x in range(n):\n",
    "        for y in range(n):\n",
    "            if graph[y][x] > i and visit[y][x]==0:\n",
    "                bfs(graph,x,y,n,visit,i,total)\n",
    "                total+=1\n",
    "                print(total, y,x)\n",
    "                \n",
    "    "
   ]
  },
  {
   "cell_type": "code",
   "execution_count": 44,
   "metadata": {},
   "outputs": [
    {
     "data": {
      "text/plain": [
       "6"
      ]
     },
     "execution_count": 44,
     "metadata": {},
     "output_type": "execute_result"
    }
   ],
   "source": [
    "total"
   ]
  },
  {
   "cell_type": "code",
   "execution_count": 45,
   "metadata": {},
   "outputs": [
    {
     "data": {
      "text/plain": [
       "[[6, 8, 2, 6, 2],\n",
       " [3, 2, 3, 4, 6],\n",
       " [6, 7, 3, 3, 2],\n",
       " [7, 2, 5, 3, 6],\n",
       " [8, 9, 5, 2, 7]]"
      ]
     },
     "execution_count": 45,
     "metadata": {},
     "output_type": "execute_result"
    }
   ],
   "source": [
    "graph"
   ]
  },
  {
   "cell_type": "code",
   "execution_count": 46,
   "metadata": {},
   "outputs": [
    {
     "data": {
      "text/plain": [
       "[[1, 1, 0, 3, 0],\n",
       " [0, 0, 0, 0, 4],\n",
       " [2, 2, 0, 0, 0],\n",
       " [2, 0, 2, 0, 5],\n",
       " [2, 2, 2, 0, 5]]"
      ]
     },
     "execution_count": 46,
     "metadata": {},
     "output_type": "execute_result"
    }
   ],
   "source": [
    "visit"
   ]
  },
  {
   "cell_type": "code",
   "execution_count": 48,
   "metadata": {},
   "outputs": [
    {
     "ename": "TypeError",
     "evalue": "bfs() takes 6 positional arguments but 7 were given",
     "output_type": "error",
     "traceback": [
      "\u001b[1;31m---------------------------------------------------------------------------\u001b[0m",
      "\u001b[1;31mTypeError\u001b[0m                                 Traceback (most recent call last)",
      "\u001b[1;32m~\\AppData\\Local\\Temp\\ipykernel_7688\\1394942386.py\u001b[0m in \u001b[0;36m<module>\u001b[1;34m\u001b[0m\n\u001b[0;32m     21\u001b[0m         \u001b[1;32mfor\u001b[0m \u001b[0my\u001b[0m \u001b[1;32min\u001b[0m \u001b[0mrange\u001b[0m\u001b[1;33m(\u001b[0m\u001b[0mn\u001b[0m\u001b[1;33m)\u001b[0m\u001b[1;33m:\u001b[0m\u001b[1;33m\u001b[0m\u001b[1;33m\u001b[0m\u001b[0m\n\u001b[0;32m     22\u001b[0m             \u001b[1;32mif\u001b[0m \u001b[0mgraph\u001b[0m\u001b[1;33m[\u001b[0m\u001b[0my\u001b[0m\u001b[1;33m]\u001b[0m\u001b[1;33m[\u001b[0m\u001b[0mx\u001b[0m\u001b[1;33m]\u001b[0m \u001b[1;33m>\u001b[0m \u001b[0mi\u001b[0m \u001b[1;32mand\u001b[0m \u001b[0mvisit\u001b[0m\u001b[1;33m[\u001b[0m\u001b[0my\u001b[0m\u001b[1;33m]\u001b[0m\u001b[1;33m[\u001b[0m\u001b[0mx\u001b[0m\u001b[1;33m]\u001b[0m\u001b[1;33m==\u001b[0m\u001b[1;32mFalse\u001b[0m\u001b[1;33m:\u001b[0m\u001b[1;33m\u001b[0m\u001b[1;33m\u001b[0m\u001b[0m\n\u001b[1;32m---> 23\u001b[1;33m                 \u001b[0mbfs\u001b[0m\u001b[1;33m(\u001b[0m\u001b[0mgraph\u001b[0m\u001b[1;33m,\u001b[0m\u001b[0mx\u001b[0m\u001b[1;33m,\u001b[0m\u001b[0my\u001b[0m\u001b[1;33m,\u001b[0m\u001b[0mn\u001b[0m\u001b[1;33m,\u001b[0m\u001b[0mvisit\u001b[0m\u001b[1;33m,\u001b[0m\u001b[0mi\u001b[0m\u001b[1;33m,\u001b[0m\u001b[0mtotal\u001b[0m\u001b[1;33m)\u001b[0m\u001b[1;33m\u001b[0m\u001b[1;33m\u001b[0m\u001b[0m\n\u001b[0m\u001b[0;32m     24\u001b[0m                 \u001b[0mtotal\u001b[0m\u001b[1;33m+=\u001b[0m\u001b[1;36m1\u001b[0m\u001b[1;33m\u001b[0m\u001b[1;33m\u001b[0m\u001b[0m\n\u001b[0;32m     25\u001b[0m \u001b[1;33m\u001b[0m\u001b[0m\n",
      "\u001b[1;31mTypeError\u001b[0m: bfs() takes 6 positional arguments but 7 were given"
     ]
    }
   ],
   "source": [
    "def bfs(graph,x,y,n,maxs,total):\n",
    "    que = deque()\n",
    "    que.append([x,y])\n",
    "    visit[y][x] = True\n",
    "    while que: \n",
    "        x_, y_ = que.popleft()\n",
    "        for i in range(4):\n",
    "            nx = x_+dx[i]\n",
    "            ny = y_+dy[i]\n",
    "            if nx < 0 or ny < 0 or nx >= n or ny >= n:\n",
    "                continue\n",
    "            if graph[ny][nx] > maxs and visit[ny][nx]==False:\n",
    "                visit[ny][nx] = True\n",
    "                que.append([nx,ny])\n",
    "    \n",
    "ans = 0\n",
    "for i in range(101):\n",
    "    total = 0\n",
    "    visit = [[False]*n for _ in range(n)]\n",
    "    for x in range(n):\n",
    "        for y in range(n):\n",
    "            if graph[y][x] > i and visit[y][x]==False:\n",
    "                bfs(graph,x,y,n,visit,i,total)\n",
    "                total+=1\n",
    "                \n",
    "                \n",
    "    ans = max(ans,total)\n",
    "    \n",
    "print(ans)"
   ]
  },
  {
   "cell_type": "code",
   "execution_count": 4,
   "metadata": {},
   "outputs": [],
   "source": [
    "l = [1,3,3]"
   ]
  },
  {
   "cell_type": "code",
   "execution_count": 6,
   "metadata": {},
   "outputs": [
    {
     "data": {
      "text/plain": [
       "2"
      ]
     },
     "execution_count": 6,
     "metadata": {},
     "output_type": "execute_result"
    }
   ],
   "source": [
    "int(sum(l)/len(l))"
   ]
  },
  {
   "cell_type": "code",
   "execution_count": 47,
   "metadata": {},
   "outputs": [
    {
     "name": "stdout",
     "output_type": "stream",
     "text": [
      "0 0 0 1\n",
      "0 0 1 0\n",
      "0 1 1 1\n",
      "1 0 2 0\n",
      "1 1 2 1\n",
      "2 1 2 2\n",
      "deque([[0, 0], [0, 1], [1, 0], [1, 1], [2, 0], [2, 1], [2, 2]])\n",
      "1\n"
     ]
    }
   ],
   "source": [
    "from collections import deque \n",
    "n, l, m = map(int,input().split())\n",
    "graph = []\n",
    "dx = [0,0,-1,1]\n",
    "dy = [-1,1,0,0]\n",
    "for _ in range(n):\n",
    "    graph.append(list(map(int,input().split())))\n",
    "    \n",
    "def bfs(graph,n,l,m,x,y):\n",
    "    que = deque()\n",
    "    now = deque()\n",
    "    visit = [[0]*n for _ in range(n)]\n",
    "    que.append([x,y])\n",
    "    now.append([x,y])\n",
    "    visit[y][x] = 1\n",
    "    total = graph[y][x]\n",
    "    while que:\n",
    "        x_,y_ = que.popleft()\n",
    "        for i in range(4):\n",
    "            nx = x_+dx[i]\n",
    "            ny = y_+dy[i]\n",
    "            if nx<0 or ny<0 or nx>=n or ny>=n:\n",
    "                continue\n",
    "            check = abs(graph[y_][x] - graph[ny][nx])\n",
    "            if l<=check<=m and visit[ny][nx]==0:9   \n",
    "                visit[ny][nx] = 1\n",
    "                que.append([nx,ny])\n",
    "                now.append([nx,ny])\n",
    "                total += graph[ny][nx]\n",
    "        \n",
    "    if len(now) == 1:\n",
    "        return 0\n",
    "    else:        \n",
    "        avg = int(total/len(now))\n",
    "        for x,y in now:\n",
    "            graph[y][x] = avg\n",
    "        print(now)\n",
    "        return 1\n",
    "\n",
    "ans = 0\n",
    "for x in range(n):\n",
    "    for y in range(n):\n",
    "        ans += bfs(graph,n,l,m,x,y)\n",
    "        \n",
    "print(ans)"
   ]
  },
  {
   "cell_type": "code",
   "execution_count": 46,
   "metadata": {},
   "outputs": [
    {
     "data": {
      "text/plain": [
       "[[18, 18, 18], [18, 18, 18], [40, 22, 18]]"
      ]
     },
     "execution_count": 46,
     "metadata": {},
     "output_type": "execute_result"
    }
   ],
   "source": [
    "graph"
   ]
  },
  {
   "cell_type": "code",
   "execution_count": 38,
   "metadata": {},
   "outputs": [
    {
     "data": {
      "text/plain": [
       "15"
      ]
     },
     "execution_count": 38,
     "metadata": {},
     "output_type": "execute_result"
    }
   ],
   "source": [
    "graph[0][1]"
   ]
  },
  {
   "cell_type": "code",
   "execution_count": null,
   "metadata": {},
   "outputs": [],
   "source": []
  }
 ],
 "metadata": {
  "kernelspec": {
   "display_name": "base",
   "language": "python",
   "name": "python3"
  },
  "language_info": {
   "codemirror_mode": {
    "name": "ipython",
    "version": 3
   },
   "file_extension": ".py",
   "mimetype": "text/x-python",
   "name": "python",
   "nbconvert_exporter": "python",
   "pygments_lexer": "ipython3",
   "version": "3.9.13"
  },
  "orig_nbformat": 4
 },
 "nbformat": 4,
 "nbformat_minor": 2
}
