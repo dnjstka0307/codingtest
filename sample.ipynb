{
 "cells": [
  {
   "cell_type": "code",
   "execution_count": null,
   "metadata": {},
   "outputs": [],
   "source": []
  },
  {
   "cell_type": "code",
   "execution_count": null,
   "metadata": {},
   "outputs": [],
   "source": []
  },
  {
   "cell_type": "code",
   "execution_count": 65,
   "metadata": {},
   "outputs": [
    {
     "name": "stdout",
     "output_type": "stream",
     "text": [
      "192\n"
     ]
    }
   ],
   "source": [
    "from heapq import *\n",
    "nums, hand = map(int, input().split())\n",
    "lists = list(map(int,input().split()))\n",
    "minus = []\n",
    "plus = []\n",
    "\n",
    "for i in lists:\n",
    "    if i < 0:\n",
    "        minus.append(-i)\n",
    "    else:\n",
    "        plus.append(i)\n",
    "minus.sort()\n",
    "plus.sort()   \n",
    "\n",
    "total = []\n",
    "for i in range(len(plus)//hand):\n",
    "    total.append(plus[-((i)*hand +1)])\n",
    "if len(plus)%hand != 0:\n",
    "    total.append(minus[-((i)*hand+1) - (len(minus)//hand)])\n",
    "    \n",
    "for i in range(len(minus)//hand):\n",
    "    total.append(minus[-((i)*hand+1)])\n",
    "if len(minus)%hand != 0:\n",
    "    total.append(minus[-((i)*hand+1) - (len(minus)//hand)])\n",
    "\n",
    "print(max(total) + (sum(total) - max(total))*2)"
   ]
  },
  {
   "cell_type": "code",
   "execution_count": 67,
   "metadata": {},
   "outputs": [
    {
     "data": {
      "text/plain": [
       "[22, 40, 50]"
      ]
     },
     "execution_count": 67,
     "metadata": {},
     "output_type": "execute_result"
    }
   ],
   "source": [
    "plus "
   ]
  },
  {
   "cell_type": "markdown",
   "metadata": {},
   "source": [
    "(sum(total) - max(total))*2"
   ]
  },
  {
   "cell_type": "code",
   "execution_count": 40,
   "metadata": {},
   "outputs": [],
   "source": [
    "d = [[]]*10"
   ]
  },
  {
   "cell_type": "code",
   "execution_count": 41,
   "metadata": {},
   "outputs": [
    {
     "data": {
      "text/plain": [
       "[[], [], [], [], [], [], [], [], [], []]"
      ]
     },
     "execution_count": 41,
     "metadata": {},
     "output_type": "execute_result"
    }
   ],
   "source": [
    "d"
   ]
  },
  {
   "cell_type": "code",
   "execution_count": 42,
   "metadata": {},
   "outputs": [],
   "source": [
    "d[0].append([1])"
   ]
  },
  {
   "cell_type": "code",
   "execution_count": 54,
   "metadata": {},
   "outputs": [],
   "source": [
    " a = [True,False,True]"
   ]
  },
  {
   "cell_type": "code",
   "execution_count": 57,
   "metadata": {},
   "outputs": [
    {
     "name": "stdout",
     "output_type": "stream",
     "text": [
      "5\n"
     ]
    }
   ],
   "source": [
    "nums_com = int(input())\n",
    "case = int(input())\n",
    "graph = [[]]*(nums_com+1)\n",
    "visited = [False]*(nums_com+1)\n",
    "\n",
    "for _ in range(case):\n",
    "    x, y = map(int, input().split())\n",
    "    graph[x] = graph[x] + [y]\n",
    "    graph[y] = graph[y] + [x]\n",
    "    \n",
    "def dfs(graph, i, visited):\n",
    "    visited[i] = True\n",
    "    for x in graph[i]:\n",
    "        if visited[x] == False:\n",
    "            dfs(graph, x, visited)\n",
    "dfs(graph, 1, visited)\n",
    "print(sum(visited))"
   ]
  },
  {
   "cell_type": "code",
   "execution_count": 58,
   "metadata": {},
   "outputs": [
    {
     "data": {
      "text/plain": [
       "[[], [2, 5], [1, 3, 5], [2], [7], [1, 2, 6], [5], [4]]"
      ]
     },
     "execution_count": 58,
     "metadata": {},
     "output_type": "execute_result"
    }
   ],
   "source": [
    "graph"
   ]
  },
  {
   "cell_type": "code",
   "execution_count": 59,
   "metadata": {},
   "outputs": [
    {
     "data": {
      "text/plain": [
       "[False, True, True, True, False, True, True, False]"
      ]
     },
     "execution_count": 59,
     "metadata": {},
     "output_type": "execute_result"
    }
   ],
   "source": [
    "visited"
   ]
  },
  {
   "cell_type": "code",
   "execution_count": 2,
   "metadata": {},
   "outputs": [
    {
     "ename": "KeyboardInterrupt",
     "evalue": "",
     "output_type": "error",
     "traceback": [
      "\u001b[1;31m---------------------------------------------------------------------------\u001b[0m",
      "\u001b[1;31mKeyboardInterrupt\u001b[0m                         Traceback (most recent call last)",
      "\u001b[1;32m~\\AppData\\Local\\Temp\\ipykernel_12428\\797634453.py\u001b[0m in \u001b[0;36m<module>\u001b[1;34m\u001b[0m\n\u001b[0;32m      7\u001b[0m     \u001b[1;32melse\u001b[0m\u001b[1;33m:\u001b[0m\u001b[1;33m\u001b[0m\u001b[1;33m\u001b[0m\u001b[0m\n\u001b[0;32m      8\u001b[0m         \u001b[0mend\u001b[0m \u001b[1;33m-=\u001b[0m \u001b[1;36m1\u001b[0m\u001b[1;33m\u001b[0m\u001b[1;33m\u001b[0m\u001b[0m\n\u001b[1;32m----> 9\u001b[1;33m     \u001b[0mans\u001b[0m \u001b[1;33m+=\u001b[0m \u001b[1;36m1\u001b[0m\u001b[1;33m\u001b[0m\u001b[1;33m\u001b[0m\u001b[0m\n\u001b[0m\u001b[0;32m     10\u001b[0m \u001b[1;33m\u001b[0m\u001b[0m\n\u001b[0;32m     11\u001b[0m \u001b[0mprint\u001b[0m\u001b[1;33m(\u001b[0m\u001b[0mans\u001b[0m\u001b[1;33m)\u001b[0m\u001b[1;33m\u001b[0m\u001b[1;33m\u001b[0m\u001b[0m\n",
      "\u001b[1;31mKeyboardInterrupt\u001b[0m: "
     ]
    }
   ],
   "source": [
    "start, end = map(int, input().split())\n",
    "\n",
    "ans = 0\n",
    "while start != end:\n",
    "    if end%2 == 0:\n",
    "        end = end//2\n",
    "    else:\n",
    "        end -= 1\n",
    "    ans += 1\n",
    "\n",
    "print(ans)    "
   ]
  },
  {
   "cell_type": "code",
   "execution_count": 19,
   "metadata": {},
   "outputs": [
    {
     "name": "stdout",
     "output_type": "stream",
     "text": [
      "1 2 4 3 1 2 3 4 "
     ]
    }
   ],
   "source": [
    "from collections import deque\n",
    "\n",
    "edge, node, start = map(int, input().split())\n",
    "graph = [[]]*(edge+1)\n",
    "visit = [False]*(edge+1)\n",
    "\n",
    "\n",
    "\n",
    "for _ in range(node):\n",
    "    x, y = map(int, input().split())\n",
    "    graph[x] = graph[x] + [y]\n",
    "    graph[y] = graph[y] + [x]\n",
    "    graph[x].sort()\n",
    "    graph[y].sort()\n",
    "    \n",
    "def dfs(graph,visit,start):\n",
    "    visit[start] = True\n",
    "    print(start, end=' ')\n",
    "    for i in graph[start]:\n",
    "        if visit[i] == False:\n",
    "            dfs(graph, visit, i)\n",
    "    \n",
    "def bfs(graph,visit,start):    \n",
    "    que = deque()\n",
    "    que.append(start)\n",
    "    \n",
    "    while que:\n",
    "        now = que.popleft()\n",
    "        if visit[now] == False:\n",
    "            print(now, end=' ')\n",
    "            visit[now] = True\n",
    "            for i in graph[now]:\n",
    "                que.append(i)           \n",
    "    \n",
    "dfs(graph,visit,start)\n",
    "print()\n",
    "visit = [False]*(edge+1)\n",
    "bfs(graph,visit,start)"
   ]
  },
  {
   "cell_type": "code",
   "execution_count": 14,
   "metadata": {},
   "outputs": [],
   "source": [
    "ls = [1,3,4]"
   ]
  },
  {
   "cell_type": "code",
   "execution_count": 40,
   "metadata": {},
   "outputs": [],
   "source": [
    "graph = [[0]*3]*4"
   ]
  },
  {
   "cell_type": "code",
   "execution_count": 43,
   "metadata": {},
   "outputs": [
    {
     "data": {
      "text/plain": [
       "[[0, 0, 0], [0, 0, 0], [0, 0, 0], [0, 0, 0]]"
      ]
     },
     "execution_count": 43,
     "metadata": {},
     "output_type": "execute_result"
    }
   ],
   "source": [
    "graph"
   ]
  },
  {
   "cell_type": "code",
   "execution_count": 80,
   "metadata": {},
   "outputs": [
    {
     "name": "stdout",
     "output_type": "stream",
     "text": [
      "5\n"
     ]
    }
   ],
   "source": [
    "from collections import deque\n",
    "case = int(input())\n",
    "dx = [1,-1,0,0]\n",
    "dy = [0,0,1,-1]\n",
    "ans = 0\n",
    "\n",
    "def bfs(graph,m,n,x,y):\n",
    "    que = deque()\n",
    "    que.append([m,n])\n",
    "    graph[n][m] = 0\n",
    "    while que:\n",
    "        nx, ny = que.popleft()\n",
    "        for i in range(4):\n",
    "            nx += dx[i]\n",
    "            ny += dy[i]\n",
    "            \n",
    "            if nx < 0 or ny < 0 or nx >= x or ny >= y:\n",
    "                continue\n",
    "            if graph[ny][nx] == 1:\n",
    "                graph[ny][nx] = 0\n",
    "                que.append([nx, ny])             \n",
    "                        \n",
    "\n",
    "for _ in range(case):\n",
    "    x, y, k = map(int, input().split())\n",
    "    graph = [[0]*x for i in range(y)]\n",
    "    for i in range(k):\n",
    "        x_, y_ = map(int, input().split())\n",
    "        graph[y_][x_] = 1\n",
    "        \n",
    "    for m in range(x):\n",
    "        for n in range(y):\n",
    "            if graph[n][m] == 1:\n",
    "                bfs(graph, m, n, x, y)\n",
    "                ans += 1\n",
    "                \n",
    "    print(ans)\n",
    "    "
   ]
  },
  {
   "cell_type": "code",
   "execution_count": 83,
   "metadata": {},
   "outputs": [
    {
     "data": {
      "text/plain": [
       "(10, 8)"
      ]
     },
     "execution_count": 83,
     "metadata": {},
     "output_type": "execute_result"
    }
   ],
   "source": [
    "x,y"
   ]
  },
  {
   "cell_type": "code",
   "execution_count": 91,
   "metadata": {},
   "outputs": [],
   "source": [
    "graph[1][0] = 1"
   ]
  },
  {
   "cell_type": "code",
   "execution_count": 93,
   "metadata": {},
   "outputs": [
    {
     "data": {
      "text/plain": [
       "[[], [], []]"
      ]
     },
     "execution_count": 93,
     "metadata": {},
     "output_type": "execute_result"
    }
   ],
   "source": [
    "[[] for i in range(3)]"
   ]
  },
  {
   "cell_type": "code",
   "execution_count": 74,
   "metadata": {},
   "outputs": [
    {
     "data": {
      "text/plain": [
       "[[0, 0, 0], [0, 0, 0], [0, 0, 0], [0, 0, 0]]"
      ]
     },
     "execution_count": 74,
     "metadata": {},
     "output_type": "execute_result"
    }
   ],
   "source": [
    "[[0]*3 for i in range(4)]"
   ]
  },
  {
   "cell_type": "code",
   "execution_count": 99,
   "metadata": {},
   "outputs": [],
   "source": [
    "edge, node = map(int, input().split())\n",
    "graph =[[] for _ in range(edge+1)]\n",
    "visit = [[False] for _ in range(edge+1)]\n",
    "for _ in range(node):\n",
    "    a, b = map(int, input().split())\n",
    "    graph[a].append(b)\n",
    "    graph[b].append(a)"
   ]
  },
  {
   "cell_type": "code",
   "execution_count": 100,
   "metadata": {},
   "outputs": [
    {
     "data": {
      "text/plain": [
       "[[], [2, 5], [1, 5], [4], [3, 6], [2, 1], [4]]"
      ]
     },
     "execution_count": 100,
     "metadata": {},
     "output_type": "execute_result"
    }
   ],
   "source": [
    "graph"
   ]
  },
  {
   "cell_type": "code",
   "execution_count": 109,
   "metadata": {},
   "outputs": [
    {
     "name": "stdout",
     "output_type": "stream",
     "text": [
      "2\n"
     ]
    }
   ],
   "source": [
    "edge, node = map(int, input().split())\n",
    "graph =[[] for _ in range(edge+1)]\n",
    "visit = [False for _ in range(edge+1)]\n",
    "for _ in range(node):\n",
    "    a, b = map(int, input().split())\n",
    "    graph[a].append(b)\n",
    "    graph[b].append(a)\n",
    "    \n",
    "    \n",
    "def dfs(graph,visit,x):\n",
    "    visit[x] = True\n",
    "    for i in graph[x]:\n",
    "        if visit[i] == False:\n",
    "            dfs(graph,visit,i)\n",
    "\n",
    "            \n",
    "total = 0            \n",
    "for i in range(1,edge+1):\n",
    "    if visit[i] == False:\n",
    "        dfs(graph, visit, i)\n",
    "        total+=1    \n",
    "    \n",
    "print(total)\n"
   ]
  },
  {
   "cell_type": "code",
   "execution_count": 110,
   "metadata": {},
   "outputs": [
    {
     "data": {
      "text/plain": [
       "[False, True, True, True, True, True, True]"
      ]
     },
     "execution_count": 110,
     "metadata": {},
     "output_type": "execute_result"
    }
   ],
   "source": [
    "visit"
   ]
  },
  {
   "cell_type": "code",
   "execution_count": 111,
   "metadata": {},
   "outputs": [
    {
     "data": {
      "text/plain": [
       "[[], [2, 5], [1, 5], [4], [3, 6], [2, 1], [4]]"
      ]
     },
     "execution_count": 111,
     "metadata": {},
     "output_type": "execute_result"
    }
   ],
   "source": [
    "graph"
   ]
  },
  {
   "cell_type": "code",
   "execution_count": null,
   "metadata": {},
   "outputs": [],
   "source": []
  }
 ],
 "metadata": {
  "kernelspec": {
   "display_name": "base",
   "language": "python",
   "name": "python3"
  },
  "language_info": {
   "codemirror_mode": {
    "name": "ipython",
    "version": 3
   },
   "file_extension": ".py",
   "mimetype": "text/x-python",
   "name": "python",
   "nbconvert_exporter": "python",
   "pygments_lexer": "ipython3",
   "version": "3.9.13"
  },
  "orig_nbformat": 4
 },
 "nbformat": 4,
 "nbformat_minor": 2
}
