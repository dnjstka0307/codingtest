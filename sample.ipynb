{
 "cells": [
  {
   "cell_type": "code",
   "execution_count": null,
   "metadata": {},
   "outputs": [],
   "source": []
  },
  {
   "cell_type": "code",
   "execution_count": 65,
   "metadata": {},
   "outputs": [
    {
     "name": "stdout",
     "output_type": "stream",
     "text": [
      "192\n"
     ]
    }
   ],
   "source": [
    "from heapq import *\n",
    "nums, hand = map(int, input().split())\n",
    "lists = list(map(int,input().split()))\n",
    "minus = []\n",
    "plus = []\n",
    "\n",
    "for i in lists:\n",
    "    if i < 0:\n",
    "        minus.append(-i)\n",
    "    else:\n",
    "        plus.append(i)\n",
    "minus.sort()\n",
    "plus.sort()   \n",
    "\n",
    "total = []\n",
    "for i in range(len(plus)//hand):\n",
    "    total.append(plus[-((i)*hand +1)])\n",
    "if len(plus)%hand != 0:\n",
    "    total.append(minus[-((i)*hand+1) - (len(minus)//hand)])\n",
    "    \n",
    "for i in range(len(minus)//hand):\n",
    "    total.append(minus[-((i)*hand+1)])\n",
    "if len(minus)%hand != 0:\n",
    "    total.append(minus[-((i)*hand+1) - (len(minus)//hand)])\n",
    "\n",
    "print(max(total) + (sum(total) - max(total))*2)"
   ]
  },
  {
   "cell_type": "code",
   "execution_count": 67,
   "metadata": {},
   "outputs": [
    {
     "data": {
      "text/plain": [
       "[22, 40, 50]"
      ]
     },
     "execution_count": 67,
     "metadata": {},
     "output_type": "execute_result"
    }
   ],
   "source": [
    "plus "
   ]
  },
  {
   "cell_type": "markdown",
   "metadata": {},
   "source": [
    "(sum(total) - max(total))*2"
   ]
  },
  {
   "cell_type": "code",
   "execution_count": null,
   "metadata": {},
   "outputs": [],
   "source": []
  }
 ],
 "metadata": {
  "kernelspec": {
   "display_name": "base",
   "language": "python",
   "name": "python3"
  },
  "language_info": {
   "codemirror_mode": {
    "name": "ipython",
    "version": 3
   },
   "file_extension": ".py",
   "mimetype": "text/x-python",
   "name": "python",
   "nbconvert_exporter": "python",
   "pygments_lexer": "ipython3",
   "version": "3.9.13"
  },
  "orig_nbformat": 4
 },
 "nbformat": 4,
 "nbformat_minor": 2
}
